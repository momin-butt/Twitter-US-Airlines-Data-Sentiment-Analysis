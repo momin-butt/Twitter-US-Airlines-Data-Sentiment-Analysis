{
  "nbformat": 4,
  "nbformat_minor": 0,
  "metadata": {
    "colab": {
      "name": "21100286_A1_P1P2.ipynb",
      "provenance": [],
      "collapsed_sections": []
    },
    "kernelspec": {
      "name": "python3",
      "display_name": "Python 3"
    }
  },
  "cells": [
    {
      "cell_type": "code",
      "metadata": {
        "id": "6fP1Uxmj3mbm"
      },
      "source": [
        "import pandas as pd\n",
        "import re\n",
        "import numpy as np\n",
        "import scipy\n",
        "import itertools\n",
        "import matplotlib\n",
        "import matplotlib.pyplot as plt\n",
        "from scipy.spatial.distance import cdist\n",
        "from collections import Counter\n",
        "from random import choice"
      ],
      "execution_count": 1,
      "outputs": []
    },
    {
      "cell_type": "code",
      "metadata": {
        "id": "pBl3s5o9M68T"
      },
      "source": [
        "# Storing the training and test datasets into their respective dataframes\n",
        "trained = pd.read_csv('train.csv')\n",
        "test = pd.read_csv('test.csv')"
      ],
      "execution_count": 2,
      "outputs": []
    },
    {
      "cell_type": "markdown",
      "metadata": {
        "id": "n3yJRwqBxIEi"
      },
      "source": [
        "# **Preprocessing**"
      ]
    },
    {
      "cell_type": "code",
      "metadata": {
        "id": "hNMJmjm9w4eq"
      },
      "source": [
        "trained['Tweet'] = trained['Tweet'].str.lower() # Ensuring all words in the Tweet column of training data are lowercased\n",
        "test['Tweet'] = test['Tweet'].str.lower() # Ensuring all words in the Tweet column of test data are lowercased"
      ],
      "execution_count": 3,
      "outputs": []
    },
    {
      "cell_type": "code",
      "metadata": {
        "id": "r2MziII3M_Fc"
      },
      "source": [
        "# Parsing the stop_words.txt file and storing all the words in a list.\n",
        "stopwords = []\n",
        "with open('stop_words.txt','r') as file:    \n",
        "    for line in file:         \n",
        "        for word in line.split():            \n",
        "            stopwords.append(word) "
      ],
      "execution_count": 4,
      "outputs": []
    },
    {
      "cell_type": "code",
      "metadata": {
        "id": "fexZCjVONA2f",
        "outputId": "4cd6e91d-1c3b-44e6-b01f-249826086805",
        "colab": {
          "base_uri": "https://localhost:8080/",
          "height": 195
        }
      },
      "source": [
        "# Removing all stopwords from all the tweets in training data.\n",
        "trained[\"Tweet\"] = trained[\"Tweet\"].apply(lambda func: ' '.join(sw \n",
        "                                          for sw in func.split() \n",
        "                                          if sw not in stopwords))\n",
        "\n",
        "# Removing all stopwords from all the tweets in test data.\n",
        "test[\"Tweet\"] = test[\"Tweet\"].apply(lambda func: ' '.join(sw \n",
        "                                          for sw in func.split() \n",
        "                                          if sw not in stopwords))\n",
        "trained.head()"
      ],
      "execution_count": 5,
      "outputs": [
        {
          "output_type": "execute_result",
          "data": {
            "text/html": [
              "<div>\n",
              "<style scoped>\n",
              "    .dataframe tbody tr th:only-of-type {\n",
              "        vertical-align: middle;\n",
              "    }\n",
              "\n",
              "    .dataframe tbody tr th {\n",
              "        vertical-align: top;\n",
              "    }\n",
              "\n",
              "    .dataframe thead th {\n",
              "        text-align: right;\n",
              "    }\n",
              "</style>\n",
              "<table border=\"1\" class=\"dataframe\">\n",
              "  <thead>\n",
              "    <tr style=\"text-align: right;\">\n",
              "      <th></th>\n",
              "      <th>Sentiment</th>\n",
              "      <th>Tweet</th>\n",
              "    </tr>\n",
              "  </thead>\n",
              "  <tbody>\n",
              "    <tr>\n",
              "      <th>0</th>\n",
              "      <td>neutral</td>\n",
              "      <td>@united 877 amsterdam ewr, 02.27.2015, 737-300.</td>\n",
              "    </tr>\n",
              "    <tr>\n",
              "      <th>1</th>\n",
              "      <td>negative</td>\n",
              "      <td>@united it-problems link? #3thparty</td>\n",
              "    </tr>\n",
              "    <tr>\n",
              "      <th>2</th>\n",
              "      <td>positive</td>\n",
              "      <td>@united -today staff @ msp took customer servi...</td>\n",
              "    </tr>\n",
              "    <tr>\n",
              "      <th>3</th>\n",
              "      <td>negative</td>\n",
              "      <td>@americanair yet receive assistance one agents...</td>\n",
              "    </tr>\n",
              "    <tr>\n",
              "      <th>4</th>\n",
              "      <td>negative</td>\n",
              "      <td>@southwestair let change reservation online wa...</td>\n",
              "    </tr>\n",
              "  </tbody>\n",
              "</table>\n",
              "</div>"
            ],
            "text/plain": [
              "  Sentiment                                              Tweet\n",
              "0   neutral    @united 877 amsterdam ewr, 02.27.2015, 737-300.\n",
              "1  negative                @united it-problems link? #3thparty\n",
              "2  positive  @united -today staff @ msp took customer servi...\n",
              "3  negative  @americanair yet receive assistance one agents...\n",
              "4  negative  @southwestair let change reservation online wa..."
            ]
          },
          "metadata": {
            "tags": []
          },
          "execution_count": 5
        }
      ]
    },
    {
      "cell_type": "code",
      "metadata": {
        "id": "Ay8vTm8gNEgh"
      },
      "source": [
        "#List of all special characters that are to be removed.\n",
        "special_chars = [\"!\",'\"',\"%\",\"&\",\"amp\",\"'\",\"(\",\")\", \"*\",\"+\",\",\",\"-\",\".\",\n",
        "                 \"/\",\":\",\";\",\"<\",\"=\",\">\",\"?\",\"[\",\"\\\\\",\"]\",\"^\",\"_\",\n",
        "                 \"`\",\"{\",\"|\",\"}\",\"~\",\"–\",\"@\",\"#\",\"$\"]"
      ],
      "execution_count": 6,
      "outputs": []
    },
    {
      "cell_type": "code",
      "metadata": {
        "id": "W8AJUQkoNOEB"
      },
      "source": [
        "#Training Data\n",
        "trained['Tweet'] = trained['Tweet'].str.replace(r'http?://[^\\s<>\"]+|www\\.[^\\s<>\"]+', '') # Removing hyperlinks from all the tweets. They are not needed for classification.\n",
        "trained['Tweet'] = trained['Tweet'].str.replace('@[A-Za-z0-9]+', '') # Removing usernames from all the tweets.\n",
        "trained['Tweet'] = trained['Tweet'].str.replace(r'\\B#\\w*[a-zA-Z]+\\w*', '') # Removing hashtags, including the text, from all the tweets. Hashtags are useless since their words cannot be splitted with spaces.\n",
        "trained['Tweet'] = trained['Tweet'].str.replace('\\d+', '') # Removing numbers from all the tweets. They will not assist in any way to improve the classification process.\n",
        "\n",
        "for c in special_chars:\n",
        "    trained['Tweet'] = trained['Tweet'].str.replace(c,'') # Removing all special characters from all the tweets\n",
        "\n",
        "#Test Data\n",
        "test['Tweet'] = test['Tweet'].str.replace(r'http?://[^\\s<>\"]+|www\\.[^\\s<>\"]+', '') # Removing hyperlinks from all the tweets\n",
        "test['Tweet'] = test['Tweet'].str.replace('@[A-Za-z0-9]+', '') # Removing usernames from all the tweets.\n",
        "test['Tweet'] = test['Tweet'].str.replace(r'\\B#\\w*[a-zA-Z]+\\w*', '') # Removing hashtags, including the text, from all the tweets\n",
        "test['Tweet'] = test['Tweet'].str.replace('\\d+', '') # Removing numbers from all the tweets\n",
        "\n",
        "for c in special_chars:\n",
        "    test['Tweet'] = test['Tweet'].str.replace(c,'') # Removing all special characters from all the tweets"
      ],
      "execution_count": 7,
      "outputs": []
    },
    {
      "cell_type": "code",
      "metadata": {
        "id": "Y21XsZZA0OJL",
        "outputId": "61ae47d7-7a16-42ff-b734-e90647951f3d",
        "colab": {
          "base_uri": "https://localhost:8080/",
          "height": 195
        }
      },
      "source": [
        "trained.head()"
      ],
      "execution_count": 8,
      "outputs": [
        {
          "output_type": "execute_result",
          "data": {
            "text/html": [
              "<div>\n",
              "<style scoped>\n",
              "    .dataframe tbody tr th:only-of-type {\n",
              "        vertical-align: middle;\n",
              "    }\n",
              "\n",
              "    .dataframe tbody tr th {\n",
              "        vertical-align: top;\n",
              "    }\n",
              "\n",
              "    .dataframe thead th {\n",
              "        text-align: right;\n",
              "    }\n",
              "</style>\n",
              "<table border=\"1\" class=\"dataframe\">\n",
              "  <thead>\n",
              "    <tr style=\"text-align: right;\">\n",
              "      <th></th>\n",
              "      <th>Sentiment</th>\n",
              "      <th>Tweet</th>\n",
              "    </tr>\n",
              "  </thead>\n",
              "  <tbody>\n",
              "    <tr>\n",
              "      <th>0</th>\n",
              "      <td>neutral</td>\n",
              "      <td>amsterdam ewr</td>\n",
              "    </tr>\n",
              "    <tr>\n",
              "      <th>1</th>\n",
              "      <td>negative</td>\n",
              "      <td>itproblems link</td>\n",
              "    </tr>\n",
              "    <tr>\n",
              "      <th>2</th>\n",
              "      <td>positive</td>\n",
              "      <td>today staff  msp took customer service new le...</td>\n",
              "    </tr>\n",
              "    <tr>\n",
              "      <th>3</th>\n",
              "      <td>negative</td>\n",
              "      <td>yet receive assistance one agents securing ne...</td>\n",
              "    </tr>\n",
              "    <tr>\n",
              "      <th>4</th>\n",
              "      <td>negative</td>\n",
              "      <td>let change reservation online wasting time</td>\n",
              "    </tr>\n",
              "  </tbody>\n",
              "</table>\n",
              "</div>"
            ],
            "text/plain": [
              "  Sentiment                                              Tweet\n",
              "0   neutral                                    amsterdam ewr  \n",
              "1  negative                                   itproblems link \n",
              "2  positive   today staff  msp took customer service new le...\n",
              "3  negative   yet receive assistance one agents securing ne...\n",
              "4  negative        let change reservation online wasting time "
            ]
          },
          "metadata": {
            "tags": []
          },
          "execution_count": 8
        }
      ]
    },
    {
      "cell_type": "code",
      "metadata": {
        "id": "bZZXxnL_0RWP",
        "outputId": "fd94b6b8-cfb0-40ce-928a-c9ba1ebfacda",
        "colab": {
          "base_uri": "https://localhost:8080/",
          "height": 195
        }
      },
      "source": [
        "test.head()"
      ],
      "execution_count": 9,
      "outputs": [
        {
          "output_type": "execute_result",
          "data": {
            "text/html": [
              "<div>\n",
              "<style scoped>\n",
              "    .dataframe tbody tr th:only-of-type {\n",
              "        vertical-align: middle;\n",
              "    }\n",
              "\n",
              "    .dataframe tbody tr th {\n",
              "        vertical-align: top;\n",
              "    }\n",
              "\n",
              "    .dataframe thead th {\n",
              "        text-align: right;\n",
              "    }\n",
              "</style>\n",
              "<table border=\"1\" class=\"dataframe\">\n",
              "  <thead>\n",
              "    <tr style=\"text-align: right;\">\n",
              "      <th></th>\n",
              "      <th>Sentiment</th>\n",
              "      <th>Tweet</th>\n",
              "    </tr>\n",
              "  </thead>\n",
              "  <tbody>\n",
              "    <tr>\n",
              "      <th>0</th>\n",
              "      <td>neutral</td>\n",
              "      <td>jump dallasaustin market  news</td>\n",
              "    </tr>\n",
              "    <tr>\n",
              "      <th>1</th>\n",
              "      <td>positive</td>\n",
              "      <td>chicago seen seat a aa  far great ride pdx</td>\n",
              "    </tr>\n",
              "    <tr>\n",
              "      <th>2</th>\n",
              "      <td>negative</td>\n",
              "      <td>need bag bouncer get together</td>\n",
              "    </tr>\n",
              "    <tr>\n",
              "      <th>3</th>\n",
              "      <td>negative</td>\n",
              "      <td>hey jetblue stranded entire plane supposed go...</td>\n",
              "    </tr>\n",
              "    <tr>\n",
              "      <th>4</th>\n",
              "      <td>negative</td>\n",
              "      <td>big fail curbside baggage pittsburgh charge  ...</td>\n",
              "    </tr>\n",
              "  </tbody>\n",
              "</table>\n",
              "</div>"
            ],
            "text/plain": [
              "  Sentiment                                              Tweet\n",
              "0   neutral                    jump dallasaustin market  news \n",
              "1  positive        chicago seen seat a aa  far great ride pdx \n",
              "2  negative                      need bag bouncer get together\n",
              "3  negative   hey jetblue stranded entire plane supposed go...\n",
              "4  negative   big fail curbside baggage pittsburgh charge  ..."
            ]
          },
          "metadata": {
            "tags": []
          },
          "execution_count": 9
        }
      ]
    },
    {
      "cell_type": "code",
      "metadata": {
        "id": "mQSOCrhXNT9J",
        "outputId": "28e647e4-b044-4446-ba81-587714a6d8e6",
        "colab": {
          "base_uri": "https://localhost:8080/",
          "height": 50
        }
      },
      "source": [
        "#Training Data\n",
        "train_unique = (list(set(trained['Tweet'].str.findall(\"\\w+\").sum()))) # Finding all the unique words in training data's Tweet column\n",
        "train_unique_words = len(train_unique)\n",
        "\n",
        "#Test Data\n",
        "test_unique = (list(set(test['Tweet'].str.findall(\"\\w+\").sum()))) # Finding all the unique words in test data's Tweet column\n",
        "test_unique_words = len(test_unique)\n",
        "\n",
        "print(\"Unique words in Training Data: {}\".format(train_unique_words))\n",
        "print(\"Unique words in Test Data: {}\".format(test_unique_words))"
      ],
      "execution_count": 10,
      "outputs": [
        {
          "output_type": "stream",
          "text": [
            "Unique words in Training Data: 10033\n",
            "Unique words in Test Data: 4839\n"
          ],
          "name": "stdout"
        }
      ]
    },
    {
      "cell_type": "markdown",
      "metadata": {
        "id": "dOpslARRxahk"
      },
      "source": [
        "## **Feature Extraction**"
      ]
    },
    {
      "cell_type": "code",
      "metadata": {
        "id": "_qQJ6IQCtAj-"
      },
      "source": [
        "#Training Data\n",
        "train_matrix = [] # Forming a 2D matrix to store all training feature vectors\n",
        "\n",
        "#Test Data\n",
        "test_matrix = [] # Forming a 2D matrix to store all test feature vectors"
      ],
      "execution_count": 11,
      "outputs": []
    },
    {
      "cell_type": "code",
      "metadata": {
        "id": "HRLHJW7ZNZpM"
      },
      "source": [
        "#Training Data: Extracting features and storing them into the training feature matrix\n",
        "for sentence in trained['Tweet']:\n",
        "    train_featurevec = []\n",
        "    word = sentence.split()\n",
        "    for w in train_unique:\n",
        "        train_featurevec.append(word.count(w))\n",
        "    train_matrix.append(train_featurevec)\n",
        "\n",
        "#Test Data: Extracting features and storing them into the test feature matrix\n",
        "for sentence in test['Tweet']:\n",
        "    test_featurevec = []\n",
        "    word = sentence.split()\n",
        "    for w in train_unique:\n",
        "        test_featurevec.append(word.count(w))\n",
        "    test_matrix.append(test_featurevec)"
      ],
      "execution_count": 12,
      "outputs": []
    },
    {
      "cell_type": "code",
      "metadata": {
        "id": "BtKYwzDD9jZ3",
        "outputId": "4ca295b0-6f8f-4423-c2f0-0f9ac6c49d58",
        "colab": {
          "base_uri": "https://localhost:8080/",
          "height": 50
        }
      },
      "source": [
        "print(\"Shape of Training Matrix: ({0} , {1})\".format(len(train_matrix),len(train_matrix[0])))\n",
        "print(\"Shape of Test Matrix: ({0} , {1})\".format(len(test_matrix),len(test_matrix[0])))"
      ],
      "execution_count": 13,
      "outputs": [
        {
          "output_type": "stream",
          "text": [
            "Shape of Training Matrix: (11680 , 10033)\n",
            "Shape of Test Matrix: (2921 , 10033)\n"
          ],
          "name": "stdout"
        }
      ]
    },
    {
      "cell_type": "markdown",
      "metadata": {
        "id": "CcIV-ow6dU6m"
      },
      "source": [
        "# **Part 1**"
      ]
    },
    {
      "cell_type": "code",
      "metadata": {
        "id": "fO9izZefAPD8"
      },
      "source": [
        "#Calculating distances between every test instance with all the train instances. This returns a 2D distances vector.\n",
        "dists = cdist(test_matrix,train_matrix,'euclidean') "
      ],
      "execution_count": 14,
      "outputs": []
    },
    {
      "cell_type": "code",
      "metadata": {
        "id": "Qw5NEh6VGBjn",
        "outputId": "245ca12a-e570-4909-c6b7-109227a7d9e0",
        "colab": {
          "base_uri": "https://localhost:8080/",
          "height": 34
        }
      },
      "source": [
        "#Making an empty column in our test data for predicted labels.\n",
        "test['Predicted Label'] = ''\n",
        "dists.shape"
      ],
      "execution_count": 15,
      "outputs": [
        {
          "output_type": "execute_result",
          "data": {
            "text/plain": [
              "(2921, 11680)"
            ]
          },
          "metadata": {
            "tags": []
          },
          "execution_count": 15
        }
      ]
    },
    {
      "cell_type": "code",
      "metadata": {
        "id": "5UZ8pALRYNIo"
      },
      "source": [
        "#Function that takes a list and returns the mode of the list. If there are more than one modes, it randomly selects any of them.\n",
        "def get_mode(l):\n",
        "    counting = Counter(l)\n",
        "    max_count = max(counting.values())\n",
        "    return choice([ks for ks in counting if counting[ks] == max_count])\n"
      ],
      "execution_count": 16,
      "outputs": []
    },
    {
      "cell_type": "markdown",
      "metadata": {
        "id": "_bfv5BQrdpyx"
      },
      "source": [
        "## **K Nearest Neighbors & Performance Measures**"
      ]
    },
    {
      "cell_type": "code",
      "metadata": {
        "id": "B3ALMn4VJ2N4"
      },
      "source": [
        "# Making a general structure of our confusion matrix\n",
        "cmatrix = pd.DataFrame({'Gold Positive': '', 'Gold Neutral': '', 'Gold Negative': ''},\n",
        "                       index = ['Predicted Positive','Predicted Neutral','Predicted Negative'])\n",
        "\n",
        "# Lists that will later store respective values for plotting\n",
        "accuracy_list = []\n",
        "recall_list = []\n",
        "precision_list = []\n",
        "F1_list = []"
      ],
      "execution_count": 17,
      "outputs": []
    },
    {
      "cell_type": "code",
      "metadata": {
        "id": "QhzrOl3fhtFM"
      },
      "source": [
        "def cmatrix_measures(k,dists,test,cmatrix):\n",
        "\n",
        "  row_count = 0\n",
        "  first_max = 0\n",
        "  second_max = 0\n",
        "  check_tie = False\n",
        "\n",
        "  for ls in dists:\n",
        "    sorted_distances_indices = np.argsort(ls) #Getting a sorted list of indices of all distances in ls with the smallest distance's index at 0th position\n",
        "    knn_indices = []\n",
        "    knn_indices = list(itertools.islice(sorted_distances_indices,k)) #Extracting the indices of the k-smallest distances\n",
        "\n",
        "    knn_labels = []\n",
        "    for i in knn_indices:\n",
        "      label = trained['Sentiment'][i] #Extracting the label of the instance by indexing it through the DataFrame.\n",
        "      knn_labels.append(label) #Appending the label to our labels list.\n",
        "\n",
        "    max_class = get_mode(knn_labels)\n",
        "    first_max = max_class\n",
        "    second_max = max(knn_labels)\n",
        "    if first_max == second_max:\n",
        "      check_tie = True\n",
        "    predicted_label = max_class\n",
        "    test['Predicted Label'][row_count] = predicted_label\n",
        "\n",
        "    row_count += 1\n",
        "\n",
        "  #Creating a frequency DataFrame that will store value counts for each tuple of instances. E.g (positive,positive = 309) and so on for all other seven instances.\n",
        "  testfreqdf = test.groupby([\"Sentiment\", \"Predicted Label\"]).size().reset_index(name=\"Frequency\")\n",
        "  testfreqdf\n",
        "\n",
        "  #Extracting values from the Frequency DataFrame and assigning to specific cells in the confusion matrix.\n",
        "  cmatrix['Gold Positive']['Predicted Positive'] = testfreqdf['Frequency'][8]\n",
        "  cmatrix['Gold Neutral']['Predicted Positive'] = testfreqdf['Frequency'][5]\n",
        "  cmatrix['Gold Negative']['Predicted Positive'] = testfreqdf['Frequency'][2]\n",
        "  cmatrix['Gold Positive']['Predicted Neutral'] = testfreqdf['Frequency'][7]\n",
        "  cmatrix['Gold Neutral']['Predicted Neutral'] = testfreqdf['Frequency'][4]\n",
        "  cmatrix['Gold Negative']['Predicted Neutral'] = testfreqdf['Frequency'][1]\n",
        "  cmatrix['Gold Positive']['Predicted Negative'] = testfreqdf['Frequency'][6]\n",
        "  cmatrix['Gold Neutral']['Predicted Negative'] = testfreqdf['Frequency'][3]\n",
        "  cmatrix['Gold Negative']['Predicted Negative'] = testfreqdf['Frequency'][0]\n",
        "\n",
        "  #Extracting all three True Positives from the matrix to measure accuracy.\n",
        "  TP = cmatrix['Gold Positive']['Predicted Positive']\n",
        "  TNT = cmatrix['Gold Neutral']['Predicted Neutral']\n",
        "  TN = cmatrix['Gold Negative']['Predicted Negative']\n",
        "  total = testfreqdf['Frequency'].sum()\n",
        "  accuracy = ((TP+TNT+TN)/total)*100\n",
        "  accuracy = round(accuracy,2)\n",
        "  accuracy_list.append(accuracy)\n",
        "\n",
        "  #Extracting all recalls from the matrix to measure macroaveraged recall.\n",
        "  recall_pos = cmatrix['Gold Positive']['Predicted Positive']/cmatrix['Gold Positive'].sum()\n",
        "  recall_neut = cmatrix['Gold Neutral']['Predicted Neutral']/cmatrix['Gold Neutral'].sum()\n",
        "  recall_neg = cmatrix['Gold Negative']['Predicted Negative']/cmatrix['Gold Negative'].sum()\n",
        "  macroaveraged_recall = ((recall_pos+recall_neut+recall_neg)/3)*100\n",
        "  macroaveraged_recall = round(macroaveraged_recall,2)\n",
        "  recall_list.append(macroaveraged_recall)\n",
        "\n",
        "  #Extracting all precisions from the matrix to measure macroaveraged precision.\n",
        "  precision_pos = cmatrix['Gold Positive']['Predicted Positive']/(cmatrix.iloc[0,0:3].sum())\n",
        "  precision_neut = cmatrix['Gold Neutral']['Predicted Neutral']/(cmatrix.iloc[1,0:3].sum())\n",
        "  precision_neg = cmatrix['Gold Negative']['Predicted Negative']/(cmatrix.iloc[2,0:3].sum())\n",
        "  macroaveraged_precision = ((precision_pos+precision_neut+precision_neg)/3)*100\n",
        "  macroaveraged_precision = round(macroaveraged_precision,2)\n",
        "  precision_list.append(macroaveraged_precision)\n",
        "\n",
        "  #Extracting all F1_scores from the matrix to measure macroaveraged F1_score.\n",
        "  F1_pos = (2*precision_pos*recall_pos)/(precision_pos+recall_pos)\n",
        "  F1_neut = (2*precision_neut*recall_neut)/(precision_neut+recall_neut)\n",
        "  F1_neg = (2*precision_neg*recall_neg)/(precision_neg+recall_neg)\n",
        "  F1_score = ((F1_pos + F1_neut + F1_neg)/3)*100  \n",
        "  F1_score = round(F1_score,2)\n",
        "  F1_list.append(F1_score)\n",
        "  \n",
        "\n",
        "  print(\"\\n\\nConfusion Matrix with k = {}:\\n\".format(k))\n",
        "  print(cmatrix)\n",
        "  print(\"\\nAccuracy with k = {0}: {1}%\".format(k,accuracy))\n",
        "  print(\"Macroaveraged Precision with k = {0}: {1}%\".format(k,macroaveraged_precision))\n",
        "  print(\"Macroaveraged Recall with k = {0}: {1}%\".format(k,macroaveraged_recall))\n",
        "  print(\"Macroaveraged F1-score with k = {0}: {1}%\".format(k,F1_score))"
      ],
      "execution_count": 18,
      "outputs": []
    },
    {
      "cell_type": "code",
      "metadata": {
        "id": "bpkGT_vUKNit",
        "outputId": "f3829be5-6d11-4c3a-d190-3e3eaa03b4fd",
        "colab": {
          "base_uri": "https://localhost:8080/",
          "height": 1000
        }
      },
      "source": [
        "#Calling the function for each individual k\n",
        "cmatrix_measures(1,dists,test,cmatrix)\n",
        "cmatrix_measures(3,dists,test,cmatrix)\n",
        "cmatrix_measures(5,dists,test,cmatrix)\n",
        "cmatrix_measures(7,dists,test,cmatrix)\n",
        "cmatrix_measures(10,dists,test,cmatrix)"
      ],
      "execution_count": 19,
      "outputs": [
        {
          "output_type": "stream",
          "text": [
            "\n",
            "\n",
            "Confusion Matrix with k = 1:\n",
            "\n",
            "                   Gold Positive Gold Neutral Gold Negative\n",
            "Predicted Positive           265           90           188\n",
            "Predicted Neutral            152          409           801\n",
            "Predicted Negative            55          116           845\n",
            "\n",
            "Accuracy with k = 1: 52.0%\n",
            "Macroaveraged Precision with k = 1: 54.0%\n",
            "Macroaveraged Recall with k = 1: 56.24%\n",
            "Macroaveraged F1-score with k = 1: 50.96%\n",
            "\n",
            "\n",
            "Confusion Matrix with k = 3:\n",
            "\n",
            "                   Gold Positive Gold Neutral Gold Negative\n",
            "Predicted Positive           282          102           190\n",
            "Predicted Neutral            145          419           865\n",
            "Predicted Negative            45           94           779\n",
            "\n",
            "Accuracy with k = 3: 50.67%\n",
            "Macroaveraged Precision with k = 3: 54.44%\n",
            "Macroaveraged Recall with k = 3: 56.78%\n",
            "Macroaveraged F1-score with k = 3: 50.51%\n",
            "\n",
            "\n",
            "Confusion Matrix with k = 5:\n",
            "\n",
            "                   Gold Positive Gold Neutral Gold Negative\n",
            "Predicted Positive           286          101           191\n",
            "Predicted Neutral            138          435           876\n",
            "Predicted Negative            48           79           767\n",
            "\n",
            "Accuracy with k = 5: 50.94%\n",
            "Macroaveraged Precision with k = 5: 55.1%\n",
            "Macroaveraged Recall with k = 5: 57.72%\n",
            "Macroaveraged F1-score with k = 5: 50.95%\n",
            "\n",
            "\n",
            "Confusion Matrix with k = 7:\n",
            "\n",
            "                   Gold Positive Gold Neutral Gold Negative\n",
            "Predicted Positive           290          105           182\n",
            "Predicted Neutral            145          447           912\n",
            "Predicted Negative            37           63           740\n",
            "\n",
            "Accuracy with k = 7: 50.56%\n",
            "Macroaveraged Precision with k = 7: 56.03%\n",
            "Macroaveraged Recall with k = 7: 58.16%\n",
            "Macroaveraged F1-score with k = 7: 50.94%\n",
            "\n",
            "\n",
            "Confusion Matrix with k = 10:\n",
            "\n",
            "                   Gold Positive Gold Neutral Gold Negative\n",
            "Predicted Positive           296          106           192\n",
            "Predicted Neutral            138          447           944\n",
            "Predicted Negative            38           62           698\n",
            "\n",
            "Accuracy with k = 10: 49.33%\n",
            "Macroaveraged Precision with k = 10: 55.51%\n",
            "Macroaveraged Recall with k = 10: 57.82%\n",
            "Macroaveraged F1-score with k = 10: 50.09%\n"
          ],
          "name": "stdout"
        }
      ]
    },
    {
      "cell_type": "markdown",
      "metadata": {
        "id": "x1lS64e6dyYY"
      },
      "source": [
        "# **Plotting (Part-1)**"
      ]
    },
    {
      "cell_type": "code",
      "metadata": {
        "id": "AquYXBtx6JIZ",
        "outputId": "705c6e1a-6466-4b52-e41c-04aff132fba4",
        "colab": {
          "base_uri": "https://localhost:8080/",
          "height": 534
        }
      },
      "source": [
        "k_list = [1,3,5,7,10] \n",
        "\n",
        "fig = plt.figure(figsize=(12,8))\n",
        "\n",
        "plt.subplot(2,2,1)\n",
        "plt.plot(k_list,accuracy_list)\n",
        "plt.title(\"Accuracy as KNN increase\",fontsize='x-large')\n",
        "plt.xlabel(\"k Nearest Neighbors\",fontsize='large')\n",
        "plt.ylabel(\"Accuracy\",fontsize='large')\n",
        "\n",
        "plt.subplot(2,2,2)\n",
        "plt.plot(k_list,recall_list)\n",
        "plt.title(\"Recall as KNN increase\",fontsize='x-large')\n",
        "plt.xlabel(\"k Nearest Neighbors\",fontsize='large')\n",
        "plt.ylabel(\"Recall\",fontsize='large')\n",
        "\n",
        "plt.subplot(2,2,3)\n",
        "plt.plot(k_list,precision_list)\n",
        "plt.title(\"Precision as KNN increase\",fontsize='x-large')\n",
        "plt.xlabel(\"k Nearest Neighbors\",fontsize='large')\n",
        "plt.ylabel(\"Precision\",fontsize='large')\n",
        "\n",
        "plt.subplot(2,2,4)\n",
        "plt.plot(k_list,F1_list)\n",
        "plt.title(\"F1 as KNN increase\",fontsize='x-large')\n",
        "plt.xlabel(\"k Nearest Neighbors\",fontsize='large')\n",
        "plt.ylabel(\"F1\",fontsize='large')\n",
        "\n",
        "fig.subplots_adjust(hspace=.5)\n",
        "\n",
        "plt.show"
      ],
      "execution_count": 20,
      "outputs": [
        {
          "output_type": "execute_result",
          "data": {
            "text/plain": [
              "<function matplotlib.pyplot.show>"
            ]
          },
          "metadata": {
            "tags": []
          },
          "execution_count": 20
        },
        {
          "output_type": "display_data",
          "data": {
            "image/png": "[encoded data removed]",
            "text/plain": [
              "<Figure size 864x576 with 4 Axes>"
            ]
          },
          "metadata": {
            "tags": [],
            "needs_background": "light"
          }
        }
      ]
    },
    {
      "cell_type": "markdown",
      "metadata": {
        "id": "4Or2o4dQd4K6"
      },
      "source": [
        "# **Part 2**"
      ]
    },
    {
      "cell_type": "code",
      "metadata": {
        "id": "t_4bypQ1d7sq"
      },
      "source": [
        "from sklearn.preprocessing import StandardScaler\n",
        "from sklearn.neighbors import KNeighborsClassifier\n",
        "from sklearn import metrics\n",
        "from sklearn.metrics import classification_report, confusion_matrix"
      ],
      "execution_count": 21,
      "outputs": []
    },
    {
      "cell_type": "code",
      "metadata": {
        "id": "nKl8NPCAKS0c"
      },
      "source": [
        "#Initializing lists to be used in plotting later.\n",
        "acc_list = []\n",
        "rec_list = []\n",
        "prec_list = []\n",
        "f1_list = []"
      ],
      "execution_count": 22,
      "outputs": []
    },
    {
      "cell_type": "markdown",
      "metadata": {
        "id": "L31icM24uZzJ"
      },
      "source": [
        "# **KNN & Performance Measures with SKLearn**"
      ]
    },
    {
      "cell_type": "code",
      "metadata": {
        "id": "KwMlmAKcnWPg"
      },
      "source": [
        "def classifying(trainfeatures,testfeatures):\n",
        "\n",
        "  X_train = trainfeatures #train_matrix - 2D feature vector\n",
        "  X_test = testfeatures #test_matrix - 2D feature vector\n",
        "  y_train = trained.iloc[:,0].values #trained['Sentiment]\n",
        "  y_test = test.iloc[:,0].values #test['Sentiment]\n",
        "\n",
        "  for k in [1,3,5,7,10]:\n",
        "\n",
        "    classifier = KNeighborsClassifier(n_neighbors=k,algorithm='brute') #Using brute-force algorithm for quicker computation.\n",
        "    classifier.fit(X_train, y_train) #Fitting the built-in sklearn classifier on our training data\n",
        "    predicted_label = classifier.predict(X_test) #Making the classifier to predict on the previously unseen test data.\n",
        "\n",
        "    accuracy_score = (metrics.accuracy_score(y_test,predicted_label))\n",
        "    accuracy_score = (round(accuracy_score,2))*100\n",
        "    acc_list.append(accuracy_score)\n",
        "\n",
        "    confusion_mat = confusion_matrix(y_test, predicted_label)\n",
        "    class_report = classification_report(y_test, predicted_label)\n",
        "\n",
        "    macro_precision = (metrics.precision_score(y_test, predicted_label, average='macro'))\n",
        "    macro_precision = (round(macro_precision,2))*100\n",
        "    prec_list.append(macro_precision)\n",
        "\n",
        "    macro_recall = (metrics.recall_score(y_test, predicted_label, average='macro'))\n",
        "    macro_recall = (round(macro_recall,2))*100\n",
        "    rec_list.append(macro_recall)\n",
        "    \n",
        "    macro_f1 = (metrics.f1_score(y_test, predicted_label, average='macro'))\n",
        "    macro_f1 = (round(macro_f1,2))*100\n",
        "    f1_list.append(macro_f1)\n",
        "\n",
        "    print(\"\\n\\nConfusion Matrix for k = {} is:\\n\".format(k))\n",
        "    print(confusion_mat)\n",
        "    print(\"\\nClassification Report for k = {} is:\\n\".format(k))\n",
        "    print(class_report)\n",
        "    print(\"Accuracy Score for k = {0} is: {1}%\".format(k,accuracy_score))\n",
        "    print(\"Macroaveraged Recall for k = {0} is: {1}%\".format(k,macro_recall))\n",
        "    print(\"Macroaveraged Precision for k = {0} is: {1}%\".format(k,macro_precision))\n",
        "    print(\"Macroaveraged F1-score for k = {0} is: {1}%\".format(k,macro_f1))"
      ],
      "execution_count": 23,
      "outputs": []
    },
    {
      "cell_type": "code",
      "metadata": {
        "id": "jW-bBZ70KVJs",
        "outputId": "b525478a-d633-4401-f33a-02c0abc86117",
        "colab": {
          "base_uri": "https://localhost:8080/",
          "height": 1000
        }
      },
      "source": [
        "classifying(train_matrix,test_matrix)"
      ],
      "execution_count": 24,
      "outputs": [
        {
          "output_type": "stream",
          "text": [
            "\n",
            "\n",
            "Confusion Matrix for k = 1 is:\n",
            "\n",
            "[[873 773 188]\n",
            " [122 416  77]\n",
            " [ 69 180 223]]\n",
            "\n",
            "Classification Report for k = 1 is:\n",
            "\n",
            "              precision    recall  f1-score   support\n",
            "\n",
            "    negative       0.82      0.48      0.60      1834\n",
            "     neutral       0.30      0.68      0.42       615\n",
            "    positive       0.46      0.47      0.46       472\n",
            "\n",
            "    accuracy                           0.52      2921\n",
            "   macro avg       0.53      0.54      0.50      2921\n",
            "weighted avg       0.65      0.52      0.54      2921\n",
            "\n",
            "Accuracy Score for k = 1 is: 52.0%\n",
            "Macroaveraged Recall for k = 1 is: 54.0%\n",
            "Macroaveraged Precision for k = 1 is: 53.0%\n",
            "Macroaveraged F1-score for k = 1 is: 50.0%\n",
            "\n",
            "\n",
            "Confusion Matrix for k = 3 is:\n",
            "\n",
            "[[905 801 128]\n",
            " [126 425  64]\n",
            " [ 71 168 233]]\n",
            "\n",
            "Classification Report for k = 3 is:\n",
            "\n",
            "              precision    recall  f1-score   support\n",
            "\n",
            "    negative       0.82      0.49      0.62      1834\n",
            "     neutral       0.30      0.69      0.42       615\n",
            "    positive       0.55      0.49      0.52       472\n",
            "\n",
            "    accuracy                           0.54      2921\n",
            "   macro avg       0.56      0.56      0.52      2921\n",
            "weighted avg       0.67      0.54      0.56      2921\n",
            "\n",
            "Accuracy Score for k = 3 is: 54.0%\n",
            "Macroaveraged Recall for k = 3 is: 56.00000000000001%\n",
            "Macroaveraged Precision for k = 3 is: 56.00000000000001%\n",
            "Macroaveraged F1-score for k = 3 is: 52.0%\n",
            "\n",
            "\n",
            "Confusion Matrix for k = 5 is:\n",
            "\n",
            "[[838 868 128]\n",
            " [106 432  77]\n",
            " [ 66 142 264]]\n",
            "\n",
            "Classification Report for k = 5 is:\n",
            "\n",
            "              precision    recall  f1-score   support\n",
            "\n",
            "    negative       0.83      0.46      0.59      1834\n",
            "     neutral       0.30      0.70      0.42       615\n",
            "    positive       0.56      0.56      0.56       472\n",
            "\n",
            "    accuracy                           0.53      2921\n",
            "   macro avg       0.56      0.57      0.52      2921\n",
            "weighted avg       0.67      0.53      0.55      2921\n",
            "\n",
            "Accuracy Score for k = 5 is: 53.0%\n",
            "Macroaveraged Recall for k = 5 is: 56.99999999999999%\n",
            "Macroaveraged Precision for k = 5 is: 56.00000000000001%\n",
            "Macroaveraged F1-score for k = 5 is: 52.0%\n",
            "\n",
            "\n",
            "Confusion Matrix for k = 7 is:\n",
            "\n",
            "[[771 902 161]\n",
            " [ 86 441  88]\n",
            " [ 44 147 281]]\n",
            "\n",
            "Classification Report for k = 7 is:\n",
            "\n",
            "              precision    recall  f1-score   support\n",
            "\n",
            "    negative       0.86      0.42      0.56      1834\n",
            "     neutral       0.30      0.72      0.42       615\n",
            "    positive       0.53      0.60      0.56       472\n",
            "\n",
            "    accuracy                           0.51      2921\n",
            "   macro avg       0.56      0.58      0.51      2921\n",
            "weighted avg       0.69      0.51      0.53      2921\n",
            "\n",
            "Accuracy Score for k = 7 is: 51.0%\n",
            "Macroaveraged Recall for k = 7 is: 57.99999999999999%\n",
            "Macroaveraged Precision for k = 7 is: 56.00000000000001%\n",
            "Macroaveraged F1-score for k = 7 is: 51.0%\n",
            "\n",
            "\n",
            "Confusion Matrix for k = 10 is:\n",
            "\n",
            "[[755 901 178]\n",
            " [ 71 452  92]\n",
            " [ 43 143 286]]\n",
            "\n",
            "Classification Report for k = 10 is:\n",
            "\n",
            "              precision    recall  f1-score   support\n",
            "\n",
            "    negative       0.87      0.41      0.56      1834\n",
            "     neutral       0.30      0.73      0.43       615\n",
            "    positive       0.51      0.61      0.56       472\n",
            "\n",
            "    accuracy                           0.51      2921\n",
            "   macro avg       0.56      0.58      0.51      2921\n",
            "weighted avg       0.69      0.51      0.53      2921\n",
            "\n",
            "Accuracy Score for k = 10 is: 51.0%\n",
            "Macroaveraged Recall for k = 10 is: 57.99999999999999%\n",
            "Macroaveraged Precision for k = 10 is: 56.00000000000001%\n",
            "Macroaveraged F1-score for k = 10 is: 51.0%\n"
          ],
          "name": "stdout"
        }
      ]
    },
    {
      "cell_type": "markdown",
      "metadata": {
        "id": "tF-x8G7Lun5i"
      },
      "source": [
        "# **Plotting (Part-2)**"
      ]
    },
    {
      "cell_type": "code",
      "metadata": {
        "id": "6LesWaAkMFJ3",
        "outputId": "4e5183c3-99ab-4924-e8fe-60ceb279206e",
        "colab": {
          "base_uri": "https://localhost:8080/",
          "height": 534
        }
      },
      "source": [
        "k_ls = [1,3,5,7,10] \n",
        "\n",
        "fig = plt.figure(figsize=(12,8))\n",
        "\n",
        "plt.subplot(2,2,1)\n",
        "plt.plot(k_ls,acc_list)\n",
        "plt.title(\"Accuracy as KNN increase\",fontsize='x-large')\n",
        "plt.xlabel(\"k Nearest Neighbors\",fontsize='large')\n",
        "plt.ylabel(\"Accuracy\",fontsize='large')\n",
        "\n",
        "plt.subplot(2,2,2)\n",
        "plt.plot(k_ls,rec_list)\n",
        "plt.title(\"Recall as KNN increase\",fontsize='x-large')\n",
        "plt.xlabel(\"k Nearest Neighbors\",fontsize='large')\n",
        "plt.ylabel(\"Recall\",fontsize='large')\n",
        "\n",
        "plt.subplot(2,2,3)\n",
        "plt.plot(k_ls,prec_list)\n",
        "plt.title(\"Precision as KNN increase\",fontsize='x-large')\n",
        "plt.xlabel(\"k Nearest Neighbors\",fontsize='large')\n",
        "plt.ylabel(\"Precision\",fontsize='large')\n",
        "\n",
        "plt.subplot(2,2,4)\n",
        "plt.plot(k_ls,f1_list)\n",
        "plt.title(\"F1 as KNN increase\",fontsize='x-large')\n",
        "plt.xlabel(\"k Nearest Neighbors\",fontsize='large')\n",
        "plt.ylabel(\"F1\",fontsize='large')\n",
        "\n",
        "fig.subplots_adjust(hspace=.5)\n",
        "\n",
        "plt.show"
      ],
      "execution_count": 25,
      "outputs": [
        {
          "output_type": "execute_result",
          "data": {
            "text/plain": [
              "<function matplotlib.pyplot.show>"
            ]
          },
          "metadata": {
            "tags": []
          },
          "execution_count": 25
        },
        {
          "output_type": "display_data",
          "data": {
            "image/png": "[encoded data removed]",
            "text/plain": [
              "<Figure size 864x576 with 4 Axes>"
            ]
          },
          "metadata": {
            "tags": [],
            "needs_background": "light"
          }
        }
      ]
    }
  ]
}