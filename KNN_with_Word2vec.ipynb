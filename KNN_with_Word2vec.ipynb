{
  "nbformat": 4,
  "nbformat_minor": 0,
  "metadata": {
    "colab": {
      "name": "21100286_A1_P3.ipynb",
      "provenance": [],
      "collapsed_sections": []
    },
    "kernelspec": {
      "name": "python3",
      "display_name": "Python 3"
    }
  },
  "cells": [
    {
      "cell_type": "markdown",
      "metadata": {
        "id": "UbwW5YadrFc0"
      },
      "source": [
        "# **Part 3**"
      ]
    },
    {
      "cell_type": "code",
      "metadata": {
        "id": "6fP1Uxmj3mbm"
      },
      "source": [
        "import pandas as pd\n",
        "import re\n",
        "import numpy as np\n",
        "import scipy\n",
        "import itertools\n",
        "import matplotlib\n",
        "import matplotlib.pyplot as plt\n",
        "import gensim\n",
        "from gensim.models import KeyedVectors\n",
        "from smart_open import open\n",
        "from scipy.spatial.distance import cdist\n",
        "from collections import Counter\n",
        "from random import choice"
      ],
      "execution_count": 1,
      "outputs": []
    },
    {
      "cell_type": "markdown",
      "metadata": {
        "id": "n3yJRwqBxIEi"
      },
      "source": [
        "# **Preprocessing**"
      ]
    },
    {
      "cell_type": "code",
      "metadata": {
        "id": "hNMJmjm9w4eq"
      },
      "source": [
        "#Storing the training and test datasets into their respective dataframes\n",
        "trained = pd.read_csv('train.csv')\n",
        "test = pd.read_csv('test.csv')\n",
        "\n",
        "#Creating a function that takes care of all the preprocessing stuff.\n",
        "def preprocess():\n",
        "\n",
        "  trained['Tweet'] = trained['Tweet'].str.lower() # Ensuring all words in the Tweet column of training data are lowercased\n",
        "  test['Tweet'] = test['Tweet'].str.lower() # Ensuring all words in the Tweet column of test data are lowercased\n",
        "\n",
        "  # Parsing the stop_words.txt file and storing all the words in a list.\n",
        "  stopwords = []\n",
        "  with open('stop_words.txt','r') as file:    \n",
        "      for line in file:         \n",
        "          for word in line.split():            \n",
        "              stopwords.append(word)\n",
        "\n",
        "  # Removing all stopwords from all the tweets in training data.\n",
        "  trained[\"Tweet\"] = trained[\"Tweet\"].apply(lambda func: ' '.join(sw \n",
        "                                            for sw in func.split() \n",
        "                                            if sw not in stopwords))\n",
        "\n",
        "  # Removing all stopwords from all the tweets in test data.\n",
        "  test[\"Tweet\"] = test[\"Tweet\"].apply(lambda func: ' '.join(sw \n",
        "                                            for sw in func.split() \n",
        "                                            if sw not in stopwords))\n",
        "\n",
        "  special_chars = [\"!\",'\"',\"%\",\"&\",\"amp\",\"'\",\"(\",\")\", \"*\",\"+\",\",\",\"-\",\".\",\n",
        "                  \"/\",\":\",\";\",\"<\",\"=\",\">\",\"?\",\"[\",\"\\\\\",\"]\",\"^\",\"_\",\n",
        "                  \"`\",\"{\",\"|\",\"}\",\"~\",\"–\",\"@\",\"#\",\"$\"]\n",
        "\n",
        "  #Training Data\n",
        "  trained['Tweet'] = trained['Tweet'].str.replace(r'http?://[^\\s<>\"]+|www\\.[^\\s<>\"]+', '') # Removing hyperlinks from all the tweets\n",
        "  trained['Tweet'] = trained['Tweet'].str.replace('@[A-Za-z0-9]+', '') # Removing usernames from all the tweets.\n",
        "  trained['Tweet'] = trained['Tweet'].str.replace(r'\\B#\\w*[a-zA-Z]+\\w*', '') # Removing hashtags, including the text, from all the tweets\n",
        "  trained['Tweet'] = trained['Tweet'].str.replace('\\d+', '') # Removing numbers from all the tweets\n",
        "\n",
        "  for c in special_chars:\n",
        "      trained['Tweet'] = trained['Tweet'].str.replace(c,'') # Removing all special characters from all the tweets\n",
        "\n",
        "  #Test Data\n",
        "  test['Tweet'] = test['Tweet'].str.replace(r'http?://[^\\s<>\"]+|www\\.[^\\s<>\"]+', '') # Removing hyperlinks from all the tweets\n",
        "  test['Tweet'] = test['Tweet'].str.replace('@[A-Za-z0-9]+', '') # Removing usernames from all the tweets.\n",
        "  test['Tweet'] = test['Tweet'].str.replace(r'\\B#\\w*[a-zA-Z]+\\w*', '') # Removing hashtags, including the text, from all the tweets\n",
        "  test['Tweet'] = test['Tweet'].str.replace('\\d+', '') # Removing numbers from all the tweets\n",
        "\n",
        "  for c in special_chars:\n",
        "      test['Tweet'] = test['Tweet'].str.replace(c,'') # Removing all special characters from all the tweets\n",
        "\n",
        "  #Training Data\n",
        "  train_unique = (list(set(trained['Tweet'].str.findall(\"\\w+\").sum()))) # Finding all the unique words in training data's Tweet column\n",
        "  train_unique_words = len(train_unique)\n",
        "\n",
        "  #Test Data\n",
        "  test_unique = (list(set(test['Tweet'].str.findall(\"\\w+\").sum()))) # Finding all the unique words in test data's Tweet column\n",
        "  test_unique_words = len(test_unique)\n",
        "\n",
        "  # Making an empty column in our test data for predicted labels.\n",
        "  test['Predicted Label'] = ''\n",
        "\n",
        "  print(\"Unique words in Training Data: {}\".format(train_unique_words))\n",
        "  print(\"Unique words in Test Data: {}\".format(test_unique_words))"
      ],
      "execution_count": 2,
      "outputs": []
    },
    {
      "cell_type": "code",
      "metadata": {
        "id": "r2MziII3M_Fc",
        "outputId": "c7b70983-f82e-4f00-baaf-6a8131d654da",
        "colab": {
          "base_uri": "https://localhost:8080/",
          "height": 50
        }
      },
      "source": [
        "preprocess()"
      ],
      "execution_count": 3,
      "outputs": [
        {
          "output_type": "stream",
          "text": [
            "Unique words in Training Data: 10033\n",
            "Unique words in Test Data: 4839\n"
          ],
          "name": "stdout"
        }
      ]
    },
    {
      "cell_type": "code",
      "metadata": {
        "id": "Y21XsZZA0OJL",
        "outputId": "37f76d10-fe2b-487e-b171-0bbb7b422455",
        "colab": {
          "base_uri": "https://localhost:8080/",
          "height": 195
        }
      },
      "source": [
        "trained.head()"
      ],
      "execution_count": 4,
      "outputs": [
        {
          "output_type": "execute_result",
          "data": {
            "text/html": [
              "<div>\n",
              "<style scoped>\n",
              "    .dataframe tbody tr th:only-of-type {\n",
              "        vertical-align: middle;\n",
              "    }\n",
              "\n",
              "    .dataframe tbody tr th {\n",
              "        vertical-align: top;\n",
              "    }\n",
              "\n",
              "    .dataframe thead th {\n",
              "        text-align: right;\n",
              "    }\n",
              "</style>\n",
              "<table border=\"1\" class=\"dataframe\">\n",
              "  <thead>\n",
              "    <tr style=\"text-align: right;\">\n",
              "      <th></th>\n",
              "      <th>Sentiment</th>\n",
              "      <th>Tweet</th>\n",
              "    </tr>\n",
              "  </thead>\n",
              "  <tbody>\n",
              "    <tr>\n",
              "      <th>0</th>\n",
              "      <td>neutral</td>\n",
              "      <td>amsterdam ewr</td>\n",
              "    </tr>\n",
              "    <tr>\n",
              "      <th>1</th>\n",
              "      <td>negative</td>\n",
              "      <td>itproblems link</td>\n",
              "    </tr>\n",
              "    <tr>\n",
              "      <th>2</th>\n",
              "      <td>positive</td>\n",
              "      <td>today staff  msp took customer service new le...</td>\n",
              "    </tr>\n",
              "    <tr>\n",
              "      <th>3</th>\n",
              "      <td>negative</td>\n",
              "      <td>yet receive assistance one agents securing ne...</td>\n",
              "    </tr>\n",
              "    <tr>\n",
              "      <th>4</th>\n",
              "      <td>negative</td>\n",
              "      <td>let change reservation online wasting time</td>\n",
              "    </tr>\n",
              "  </tbody>\n",
              "</table>\n",
              "</div>"
            ],
            "text/plain": [
              "  Sentiment                                              Tweet\n",
              "0   neutral                                    amsterdam ewr  \n",
              "1  negative                                   itproblems link \n",
              "2  positive   today staff  msp took customer service new le...\n",
              "3  negative   yet receive assistance one agents securing ne...\n",
              "4  negative        let change reservation online wasting time "
            ]
          },
          "metadata": {
            "tags": []
          },
          "execution_count": 4
        }
      ]
    },
    {
      "cell_type": "code",
      "metadata": {
        "id": "bZZXxnL_0RWP",
        "outputId": "fc10669c-40c7-4e6b-d17d-f31104d0493e",
        "colab": {
          "base_uri": "https://localhost:8080/",
          "height": 195
        }
      },
      "source": [
        "test.head()"
      ],
      "execution_count": 5,
      "outputs": [
        {
          "output_type": "execute_result",
          "data": {
            "text/html": [
              "<div>\n",
              "<style scoped>\n",
              "    .dataframe tbody tr th:only-of-type {\n",
              "        vertical-align: middle;\n",
              "    }\n",
              "\n",
              "    .dataframe tbody tr th {\n",
              "        vertical-align: top;\n",
              "    }\n",
              "\n",
              "    .dataframe thead th {\n",
              "        text-align: right;\n",
              "    }\n",
              "</style>\n",
              "<table border=\"1\" class=\"dataframe\">\n",
              "  <thead>\n",
              "    <tr style=\"text-align: right;\">\n",
              "      <th></th>\n",
              "      <th>Sentiment</th>\n",
              "      <th>Tweet</th>\n",
              "      <th>Predicted Label</th>\n",
              "    </tr>\n",
              "  </thead>\n",
              "  <tbody>\n",
              "    <tr>\n",
              "      <th>0</th>\n",
              "      <td>neutral</td>\n",
              "      <td>jump dallasaustin market  news</td>\n",
              "      <td></td>\n",
              "    </tr>\n",
              "    <tr>\n",
              "      <th>1</th>\n",
              "      <td>positive</td>\n",
              "      <td>chicago seen seat a aa  far great ride pdx</td>\n",
              "      <td></td>\n",
              "    </tr>\n",
              "    <tr>\n",
              "      <th>2</th>\n",
              "      <td>negative</td>\n",
              "      <td>need bag bouncer get together</td>\n",
              "      <td></td>\n",
              "    </tr>\n",
              "    <tr>\n",
              "      <th>3</th>\n",
              "      <td>negative</td>\n",
              "      <td>hey jetblue stranded entire plane supposed go...</td>\n",
              "      <td></td>\n",
              "    </tr>\n",
              "    <tr>\n",
              "      <th>4</th>\n",
              "      <td>negative</td>\n",
              "      <td>big fail curbside baggage pittsburgh charge  ...</td>\n",
              "      <td></td>\n",
              "    </tr>\n",
              "  </tbody>\n",
              "</table>\n",
              "</div>"
            ],
            "text/plain": [
              "  Sentiment                                              Tweet Predicted Label\n",
              "0   neutral                    jump dallasaustin market  news                 \n",
              "1  positive        chicago seen seat a aa  far great ride pdx                 \n",
              "2  negative                      need bag bouncer get together                \n",
              "3  negative   hey jetblue stranded entire plane supposed go...                \n",
              "4  negative   big fail curbside baggage pittsburgh charge  ...                "
            ]
          },
          "metadata": {
            "tags": []
          },
          "execution_count": 5
        }
      ]
    },
    {
      "cell_type": "code",
      "metadata": {
        "id": "94pmKOSKsCeF",
        "outputId": "9525a6d9-052a-467e-e14c-21243853f2fc",
        "colab": {
          "base_uri": "https://localhost:8080/",
          "height": 202
        }
      },
      "source": [
        "!wget https://s3.amazonaws.com/dl4j-distribution/GoogleNews-vectors-negative300.bin.gz"
      ],
      "execution_count": 6,
      "outputs": [
        {
          "output_type": "stream",
          "text": [
            "--2020-10-16 14:58:15--  https://s3.amazonaws.com/dl4j-distribution/GoogleNews-vectors-negative300.bin.gz\n",
            "Resolving s3.amazonaws.com (s3.amazonaws.com)... 52.217.92.190\n",
            "Connecting to s3.amazonaws.com (s3.amazonaws.com)|52.217.92.190|:443... connected.\n",
            "HTTP request sent, awaiting response... 200 OK\n",
            "Length: 1647046227 (1.5G) [application/x-gzip]\n",
            "Saving to: ‘GoogleNews-vectors-negative300.bin.gz’\n",
            "\n",
            "GoogleNews-vectors- 100%[===================>]   1.53G  89.6MB/s    in 17s     \n",
            "\n",
            "2020-10-16 14:58:33 (91.7 MB/s) - ‘GoogleNews-vectors-negative300.bin.gz’ saved [1647046227/1647046227]\n",
            "\n"
          ],
          "name": "stdout"
        }
      ]
    },
    {
      "cell_type": "code",
      "metadata": {
        "id": "f7ZFGoai3J3_",
        "outputId": "d29626eb-3ea4-4600-9ce2-2febbc62419b",
        "colab": {
          "base_uri": "https://localhost:8080/",
          "height": 70
        }
      },
      "source": [
        "word2vec = KeyedVectors.load_word2vec_format(\"GoogleNews-vectors-negative300.bin.gz\", binary=True)"
      ],
      "execution_count": 7,
      "outputs": [
        {
          "output_type": "stream",
          "text": [
            "/usr/local/lib/python3.6/dist-packages/smart_open/smart_open_lib.py:252: UserWarning: This function is deprecated, use smart_open.open instead. See the migration notes for details: https://github.com/RaRe-Technologies/smart_open/blob/master/README.rst#migrating-to-the-new-open-function\n",
            "  'See the migration notes for details: %s' % _MIGRATION_NOTES_URL\n"
          ],
          "name": "stderr"
        }
      ]
    },
    {
      "cell_type": "markdown",
      "metadata": {
        "id": "aR04QAWWrrcp"
      },
      "source": [
        "# **Repeating Part 1 with Word2Vec**"
      ]
    },
    {
      "cell_type": "code",
      "metadata": {
        "id": "VGsURRl1oOgA"
      },
      "source": [
        "def extract_features(sentence):\n",
        "  words = [word for word in sentence.split() if word in word2vec.vocab]\n",
        "  if words == []:\n",
        "    return []\n",
        "  else:\n",
        "    return np.mean(word2vec[words],axis=0)"
      ],
      "execution_count": 8,
      "outputs": []
    },
    {
      "cell_type": "code",
      "metadata": {
        "id": "MUiCST2d0OAG",
        "outputId": "7c24c305-5b18-40ba-b3e2-b77dced3201d",
        "colab": {
          "base_uri": "https://localhost:8080/",
          "height": 50
        }
      },
      "source": [
        "train_embeddings = []\n",
        "\n",
        "for sentence in trained['Tweet']:\n",
        "  words = extract_features(sentence)\n",
        "  if words == []:\n",
        "    trained = trained.drop(trained[trained.Tweet == sentence].index)\n",
        "  else:  \n",
        "    train_embeddings.append(words)\n",
        "\n",
        "trained = trained.reset_index()"
      ],
      "execution_count": 9,
      "outputs": [
        {
          "output_type": "stream",
          "text": [
            "/usr/local/lib/python3.6/dist-packages/ipykernel_launcher.py:5: DeprecationWarning: elementwise comparison failed; this will raise an error in the future.\n",
            "  \"\"\"\n"
          ],
          "name": "stderr"
        }
      ]
    },
    {
      "cell_type": "code",
      "metadata": {
        "id": "WYPEDjVL1Khf",
        "outputId": "167b1293-c320-45a3-94a5-457c825f71f2",
        "colab": {
          "base_uri": "https://localhost:8080/",
          "height": 50
        }
      },
      "source": [
        "test_embeddings = []\n",
        "\n",
        "for sentence in test['Tweet']:\n",
        "  words = extract_features(sentence)\n",
        "  if words == []:\n",
        "    test = test.drop(test[test.Tweet == sentence].index)\n",
        "  else:  \n",
        "    test_embeddings.append(words)\n",
        "\n",
        "test = test.reset_index()"
      ],
      "execution_count": 10,
      "outputs": [
        {
          "output_type": "stream",
          "text": [
            "/usr/local/lib/python3.6/dist-packages/ipykernel_launcher.py:5: DeprecationWarning: elementwise comparison failed; this will raise an error in the future.\n",
            "  \"\"\"\n"
          ],
          "name": "stderr"
        }
      ]
    },
    {
      "cell_type": "code",
      "metadata": {
        "id": "eoVt5YEVN8Ft",
        "outputId": "ae88f13d-f738-45db-be31-3cb66f82716d",
        "colab": {
          "base_uri": "https://localhost:8080/",
          "height": 50
        }
      },
      "source": [
        "print(\"Shape of Training Matrix: ({0} , {1})\".format(len(train_embeddings),len(train_embeddings[0])))\n",
        "print(\"Shape of Test Matrix: ({0} , {1})\".format(len(test_embeddings),len(test_embeddings[0])))"
      ],
      "execution_count": 11,
      "outputs": [
        {
          "output_type": "stream",
          "text": [
            "Shape of Training Matrix: (11672 , 300)\n",
            "Shape of Test Matrix: (2916 , 300)\n"
          ],
          "name": "stdout"
        }
      ]
    },
    {
      "cell_type": "code",
      "metadata": {
        "id": "8dDN7bbz6hMi"
      },
      "source": [
        "#Calculating distances between every test instance with all the train instances. This returns a 2D distances vector.\n",
        "dists = cdist(test_embeddings,train_embeddings,'euclidean') "
      ],
      "execution_count": 12,
      "outputs": []
    },
    {
      "cell_type": "code",
      "metadata": {
        "id": "YmWYg5PgE0_b"
      },
      "source": [
        "# Making a general structure of our confusion matrix\n",
        "cmatrix = pd.DataFrame({'Gold Positive': '', 'Gold Neutral': '', 'Gold Negative': ''},\n",
        "                       index = ['Predicted Positive','Predicted Neutral','Predicted Negative'])\n",
        "\n",
        "# Lists that will later store respective values for plotting\n",
        "accuracy_list = []\n",
        "recall_list = []\n",
        "precision_list = []\n",
        "F1_list = []"
      ],
      "execution_count": 13,
      "outputs": []
    },
    {
      "cell_type": "code",
      "metadata": {
        "id": "g6wVIcNghc5e"
      },
      "source": [
        "#Function that takes a list and returns the mode of the list. If there are more than one modes, it randomly selects any of them.\n",
        "def get_mode(l):\n",
        "    counting = Counter(l)\n",
        "    max_count = max(counting.values())\n",
        "    return choice([ks for ks in counting if counting[ks] == max_count])"
      ],
      "execution_count": 14,
      "outputs": []
    },
    {
      "cell_type": "code",
      "metadata": {
        "id": "QhzrOl3fhtFM"
      },
      "source": [
        "def cmatrix_measures(k,dists,test,cmatrix):\n",
        "\n",
        "  row_count = 0\n",
        "  first_max = 0\n",
        "  second_max = 0\n",
        "  check_tie = False\n",
        "\n",
        "  for ls in dists:\n",
        "    sorted_distances_indices = np.argsort(ls) #Getting a sorted list of indices of all distances in ls with the smallest distance's index at 0th position\n",
        "    knn_indices = []\n",
        "    knn_indices = list(itertools.islice(sorted_distances_indices,k)) #Extracting the indices of the k-smallest distances\n",
        "\n",
        "    knn_labels = []\n",
        "    for i in knn_indices:\n",
        "      label = trained['Sentiment'][i] #Extracting the label of the instance by indexing it through the DataFrame.\n",
        "      knn_labels.append(label) #Appending the label to our labels list.\n",
        "\n",
        "    max_class = get_mode(knn_labels)\n",
        "    first_max = max_class\n",
        "    second_max = max(knn_labels)\n",
        "    if first_max == second_max:\n",
        "      check_tie = True\n",
        "    predicted_label = max_class\n",
        "    test['Predicted Label'][row_count] = predicted_label\n",
        "\n",
        "    row_count += 1\n",
        "\n",
        "  #Creating a frequency DataFrame that will store value counts for each tuple of instances. E.g (positive,positive = 309) and so on for all other seven instances.\n",
        "  testfreqdf = test.groupby([\"Sentiment\", \"Predicted Label\"]).size().reset_index(name=\"Frequency\")\n",
        "  testfreqdf\n",
        "\n",
        "  #Extracting values from the Frequency DataFrame and assigning to specific cells in the confusion matrix.\n",
        "  cmatrix['Gold Positive']['Predicted Positive'] = testfreqdf['Frequency'][8]\n",
        "  cmatrix['Gold Neutral']['Predicted Positive'] = testfreqdf['Frequency'][5]\n",
        "  cmatrix['Gold Negative']['Predicted Positive'] = testfreqdf['Frequency'][2]\n",
        "  cmatrix['Gold Positive']['Predicted Neutral'] = testfreqdf['Frequency'][7]\n",
        "  cmatrix['Gold Neutral']['Predicted Neutral'] = testfreqdf['Frequency'][4]\n",
        "  cmatrix['Gold Negative']['Predicted Neutral'] = testfreqdf['Frequency'][1]\n",
        "  cmatrix['Gold Positive']['Predicted Negative'] = testfreqdf['Frequency'][6]\n",
        "  cmatrix['Gold Neutral']['Predicted Negative'] = testfreqdf['Frequency'][3]\n",
        "  cmatrix['Gold Negative']['Predicted Negative'] = testfreqdf['Frequency'][0]\n",
        "\n",
        "  #Extracting all three True Positives from the matrix to measure accuracy.\n",
        "  TP = cmatrix['Gold Positive']['Predicted Positive']\n",
        "  TNT = cmatrix['Gold Neutral']['Predicted Neutral']\n",
        "  TN = cmatrix['Gold Negative']['Predicted Negative']\n",
        "  total = testfreqdf['Frequency'].sum()\n",
        "  accuracy = ((TP+TNT+TN)/total)*100\n",
        "  accuracy = round(accuracy,2)\n",
        "  accuracy_list.append(accuracy)\n",
        "\n",
        "  recall_pos = cmatrix['Gold Positive']['Predicted Positive']/cmatrix['Gold Positive'].sum()\n",
        "  recall_neut = cmatrix['Gold Neutral']['Predicted Neutral']/cmatrix['Gold Neutral'].sum()\n",
        "  recall_neg = cmatrix['Gold Negative']['Predicted Negative']/cmatrix['Gold Negative'].sum()\n",
        "  macroaveraged_recall = ((recall_pos+recall_neut+recall_neg)/3)*100\n",
        "  macroaveraged_recall = round(macroaveraged_recall,2)\n",
        "  recall_list.append(macroaveraged_recall)\n",
        "\n",
        "  precision_pos = cmatrix['Gold Positive']['Predicted Positive']/(cmatrix.iloc[0,0:3].sum())\n",
        "  precision_neut = cmatrix['Gold Neutral']['Predicted Neutral']/(cmatrix.iloc[1,0:3].sum())\n",
        "  precision_neg = cmatrix['Gold Negative']['Predicted Negative']/(cmatrix.iloc[2,0:3].sum())\n",
        "  macroaveraged_precision = ((precision_pos+precision_neut+precision_neg)/3)*100\n",
        "  macroaveraged_precision = round(macroaveraged_precision,2)\n",
        "  precision_list.append(macroaveraged_precision)\n",
        "\n",
        "  F1_pos = (2*precision_pos*recall_pos)/(precision_pos+recall_pos)\n",
        "  F1_neut = (2*precision_neut*recall_neut)/(precision_neut+recall_neut)\n",
        "  F1_neg = (2*precision_neg*recall_neg)/(precision_neg+recall_neg)\n",
        "  F1_score = ((F1_pos + F1_neut + F1_neg)/3)*100  \n",
        "  F1_score = round(F1_score,2)\n",
        "  F1_list.append(F1_score)\n",
        "  \n",
        "\n",
        "  print(\"\\n\\nConfusion Matrix with k = {}:\\n\".format(k))\n",
        "  print(cmatrix)\n",
        "  print(\"\\nAccuracy with k = {0}: {1}%\".format(k,accuracy))\n",
        "  print(\"Macroaveraged Precision with k = {0}: {1}%\".format(k,macroaveraged_precision))\n",
        "  print(\"Macroaveraged Recall with k = {0}: {1}%\".format(k,macroaveraged_recall))\n",
        "  print(\"Macroaveraged F1-score with k = {0}: {1}%\\n\".format(k,F1_score))"
      ],
      "execution_count": 15,
      "outputs": []
    },
    {
      "cell_type": "code",
      "metadata": {
        "id": "bpkGT_vUKNit",
        "outputId": "044f082c-b00a-4b84-9eab-6dea4ef729ef",
        "colab": {
          "base_uri": "https://localhost:8080/",
          "height": 1000
        }
      },
      "source": [
        "cmatrix_measures(1,dists,test,cmatrix)\n",
        "cmatrix_measures(3,dists,test,cmatrix)\n",
        "cmatrix_measures(5,dists,test,cmatrix)\n",
        "cmatrix_measures(7,dists,test,cmatrix)\n",
        "cmatrix_measures(10,dists,test,cmatrix)"
      ],
      "execution_count": 16,
      "outputs": [
        {
          "output_type": "stream",
          "text": [
            "/usr/local/lib/python3.6/dist-packages/ipykernel_launcher.py:24: SettingWithCopyWarning: \n",
            "A value is trying to be set on a copy of a slice from a DataFrame\n",
            "\n",
            "See the caveats in the documentation: https://pandas.pydata.org/pandas-docs/stable/user_guide/indexing.html#returning-a-view-versus-a-copy\n"
          ],
          "name": "stderr"
        },
        {
          "output_type": "stream",
          "text": [
            "\n",
            "\n",
            "Confusion Matrix with k = 1:\n",
            "\n",
            "                   Gold Positive Gold Neutral Gold Negative\n",
            "Predicted Positive           240           80           115\n",
            "Predicted Neutral             71          236           174\n",
            "Predicted Negative           161          295          1544\n",
            "\n",
            "Accuracy with k = 1: 69.27%\n",
            "Macroaveraged Precision with k = 1: 60.48%\n",
            "Macroaveraged Recall with k = 1: 57.9%\n",
            "Macroaveraged F1-score with k = 1: 58.9%\n",
            "\n"
          ],
          "name": "stdout"
        },
        {
          "output_type": "stream",
          "text": [
            "/usr/local/lib/python3.6/dist-packages/ipykernel_launcher.py:24: SettingWithCopyWarning: \n",
            "A value is trying to be set on a copy of a slice from a DataFrame\n",
            "\n",
            "See the caveats in the documentation: https://pandas.pydata.org/pandas-docs/stable/user_guide/indexing.html#returning-a-view-versus-a-copy\n"
          ],
          "name": "stderr"
        },
        {
          "output_type": "stream",
          "text": [
            "\n",
            "\n",
            "Confusion Matrix with k = 3:\n",
            "\n",
            "                   Gold Positive Gold Neutral Gold Negative\n",
            "Predicted Positive           254           66            56\n",
            "Predicted Neutral             47          182            86\n",
            "Predicted Negative           171          363          1691\n",
            "\n",
            "Accuracy with k = 3: 72.94%\n",
            "Macroaveraged Precision with k = 3: 67.11%\n",
            "Macroaveraged Recall with k = 3: 58.62%\n",
            "Macroaveraged F1-score with k = 3: 60.85%\n",
            "\n"
          ],
          "name": "stdout"
        },
        {
          "output_type": "stream",
          "text": [
            "/usr/local/lib/python3.6/dist-packages/ipykernel_launcher.py:24: SettingWithCopyWarning: \n",
            "A value is trying to be set on a copy of a slice from a DataFrame\n",
            "\n",
            "See the caveats in the documentation: https://pandas.pydata.org/pandas-docs/stable/user_guide/indexing.html#returning-a-view-versus-a-copy\n"
          ],
          "name": "stderr"
        },
        {
          "output_type": "stream",
          "text": [
            "\n",
            "\n",
            "Confusion Matrix with k = 5:\n",
            "\n",
            "                   Gold Positive Gold Neutral Gold Negative\n",
            "Predicted Positive           255           56            29\n",
            "Predicted Neutral             35          154            51\n",
            "Predicted Negative           182          401          1753\n",
            "\n",
            "Accuracy with k = 5: 74.14%\n",
            "Macroaveraged Precision with k = 5: 71.4%\n",
            "Macroaveraged Recall with k = 5: 58.29%\n",
            "Macroaveraged F1-score with k = 5: 61.03%\n",
            "\n"
          ],
          "name": "stdout"
        },
        {
          "output_type": "stream",
          "text": [
            "/usr/local/lib/python3.6/dist-packages/ipykernel_launcher.py:24: SettingWithCopyWarning: \n",
            "A value is trying to be set on a copy of a slice from a DataFrame\n",
            "\n",
            "See the caveats in the documentation: https://pandas.pydata.org/pandas-docs/stable/user_guide/indexing.html#returning-a-view-versus-a-copy\n"
          ],
          "name": "stderr"
        },
        {
          "output_type": "stream",
          "text": [
            "\n",
            "\n",
            "Confusion Matrix with k = 7:\n",
            "\n",
            "                   Gold Positive Gold Neutral Gold Negative\n",
            "Predicted Positive           246           50            23\n",
            "Predicted Neutral             28          136            32\n",
            "Predicted Negative           198          425          1778\n",
            "\n",
            "Accuracy with k = 7: 74.07%\n",
            "Macroaveraged Precision with k = 7: 73.52%\n",
            "Macroaveraged Recall with k = 7: 57.13%\n",
            "Macroaveraged F1-score with k = 7: 59.96%\n",
            "\n"
          ],
          "name": "stdout"
        },
        {
          "output_type": "stream",
          "text": [
            "/usr/local/lib/python3.6/dist-packages/ipykernel_launcher.py:24: SettingWithCopyWarning: \n",
            "A value is trying to be set on a copy of a slice from a DataFrame\n",
            "\n",
            "See the caveats in the documentation: https://pandas.pydata.org/pandas-docs/stable/user_guide/indexing.html#returning-a-view-versus-a-copy\n"
          ],
          "name": "stderr"
        },
        {
          "output_type": "stream",
          "text": [
            "\n",
            "\n",
            "Confusion Matrix with k = 10:\n",
            "\n",
            "                   Gold Positive Gold Neutral Gold Negative\n",
            "Predicted Positive           232           44            13\n",
            "Predicted Neutral             27          119            25\n",
            "Predicted Negative           213          448          1795\n",
            "\n",
            "Accuracy with k = 10: 73.59%\n",
            "Macroaveraged Precision with k = 10: 74.32%\n",
            "Macroaveraged Recall with k = 10: 55.52%\n",
            "Macroaveraged F1-score with k = 10: 58.37%\n",
            "\n"
          ],
          "name": "stdout"
        }
      ]
    },
    {
      "cell_type": "markdown",
      "metadata": {
        "id": "-25lS80RsPkU"
      },
      "source": [
        "# **Plotting Part 1 Results with Word2Vec**"
      ]
    },
    {
      "cell_type": "code",
      "metadata": {
        "id": "QjKaPLCOVpaG",
        "outputId": "c8fc04a3-def3-45cb-eb18-0a121c82de4f",
        "colab": {
          "base_uri": "https://localhost:8080/",
          "height": 534
        }
      },
      "source": [
        "k_list = [1,3,5,7,10] \n",
        "\n",
        "fig = plt.figure(figsize=(12,8))\n",
        "\n",
        "plt.subplot(2,2,1)\n",
        "plt.plot(k_list,accuracy_list)\n",
        "plt.title(\"Accuracy as KNN increase\",fontsize='x-large')\n",
        "plt.xlabel(\"k Nearest Neighbors\",fontsize='large')\n",
        "plt.ylabel(\"Accuracy\",fontsize='large')\n",
        "\n",
        "plt.subplot(2,2,2)\n",
        "plt.plot(k_list,recall_list)\n",
        "plt.title(\"Recall as KNN increase\",fontsize='x-large')\n",
        "plt.xlabel(\"k Nearest Neighbors\",fontsize='large')\n",
        "plt.ylabel(\"Recall\",fontsize='large')\n",
        "\n",
        "plt.subplot(2,2,3)\n",
        "plt.plot(k_list,precision_list)\n",
        "plt.title(\"Precision as KNN increase\",fontsize='x-large')\n",
        "plt.xlabel(\"k Nearest Neighbors\",fontsize='large')\n",
        "plt.ylabel(\"Precision\",fontsize='large')\n",
        "\n",
        "plt.subplot(2,2,4)\n",
        "plt.plot(k_list,F1_list)\n",
        "plt.title(\"F1 as KNN increase\",fontsize='x-large')\n",
        "plt.xlabel(\"k Nearest Neighbors\",fontsize='large')\n",
        "plt.ylabel(\"F1\",fontsize='large')\n",
        "\n",
        "fig.subplots_adjust(hspace=.5)\n",
        "\n",
        "plt.show"
      ],
      "execution_count": 17,
      "outputs": [
        {
          "output_type": "execute_result",
          "data": {
            "text/plain": [
              "<function matplotlib.pyplot.show>"
            ]
          },
          "metadata": {
            "tags": []
          },
          "execution_count": 17
        },
        {
          "output_type": "display_data",
          "data": {
            "image/png": "[encoded data removed]",
            "text/plain": [
              "<Figure size 864x576 with 4 Axes>"
            ]
          },
          "metadata": {
            "tags": [],
            "needs_background": "light"
          }
        }
      ]
    },
    {
      "cell_type": "markdown",
      "metadata": {
        "id": "N3AWkISjOPb3"
      },
      "source": [
        "#**Repeating Part 2 with Word2Vec**"
      ]
    },
    {
      "cell_type": "code",
      "metadata": {
        "id": "cSoQmJi7pE1n"
      },
      "source": [
        "# Storing the training and test datasets into their respective dataframes\n",
        "\n",
        "trained = pd.read_csv('train.csv')\n",
        "test = pd.read_csv('test.csv')"
      ],
      "execution_count": 18,
      "outputs": []
    },
    {
      "cell_type": "markdown",
      "metadata": {
        "id": "kdAR3zGOpE1r"
      },
      "source": [
        "# **Preprocessing**"
      ]
    },
    {
      "cell_type": "code",
      "metadata": {
        "id": "DlCctnxQpE1s",
        "outputId": "4d0be387-972b-44fe-fcf3-3edbfbc60010",
        "colab": {
          "base_uri": "https://localhost:8080/",
          "height": 50
        }
      },
      "source": [
        "#Storing the training and test datasets into their respective dataframes\n",
        "trained = pd.read_csv('train.csv')\n",
        "test = pd.read_csv('test.csv')\n",
        "preprocess()"
      ],
      "execution_count": 19,
      "outputs": [
        {
          "output_type": "stream",
          "text": [
            "Unique words in Training Data: 10033\n",
            "Unique words in Test Data: 4839\n"
          ],
          "name": "stdout"
        }
      ]
    },
    {
      "cell_type": "code",
      "metadata": {
        "id": "Z4tkz_8wpS3s"
      },
      "source": [
        "def extract_features(sentence):\n",
        "  words = [word for word in sentence.split() if word in word2vec.vocab]\n",
        "  if words == []:\n",
        "    return []\n",
        "  else:\n",
        "    return np.mean(word2vec[words],axis=0)"
      ],
      "execution_count": 20,
      "outputs": []
    },
    {
      "cell_type": "code",
      "metadata": {
        "id": "xWeVV14spS38",
        "outputId": "f66009fb-5b01-42ad-c9d3-6c093e7ed2d0",
        "colab": {
          "base_uri": "https://localhost:8080/",
          "height": 50
        }
      },
      "source": [
        "train_embeddings = []\n",
        "\n",
        "for sentence in trained['Tweet']:\n",
        "  words = extract_features(sentence)\n",
        "  if words == []:\n",
        "    trained = trained.drop(trained[trained.Tweet == sentence].index)\n",
        "  else:  \n",
        "    train_embeddings.append(words)"
      ],
      "execution_count": 21,
      "outputs": [
        {
          "output_type": "stream",
          "text": [
            "/usr/local/lib/python3.6/dist-packages/ipykernel_launcher.py:5: DeprecationWarning: elementwise comparison failed; this will raise an error in the future.\n",
            "  \"\"\"\n"
          ],
          "name": "stderr"
        }
      ]
    },
    {
      "cell_type": "code",
      "metadata": {
        "id": "QEkAh2I2pS4A",
        "outputId": "b8bad39b-151b-4b59-98e6-59af9c32fcc8",
        "colab": {
          "base_uri": "https://localhost:8080/",
          "height": 50
        }
      },
      "source": [
        "test_embeddings = []\n",
        "\n",
        "for sentence in test['Tweet']:\n",
        "  words = extract_features(sentence)\n",
        "  if words == []:\n",
        "    test = test.drop(test[test.Tweet == sentence].index)\n",
        "  else:  \n",
        "    test_embeddings.append(words)"
      ],
      "execution_count": 22,
      "outputs": [
        {
          "output_type": "stream",
          "text": [
            "/usr/local/lib/python3.6/dist-packages/ipykernel_launcher.py:5: DeprecationWarning: elementwise comparison failed; this will raise an error in the future.\n",
            "  \"\"\"\n"
          ],
          "name": "stderr"
        }
      ]
    },
    {
      "cell_type": "code",
      "metadata": {
        "id": "t_4bypQ1d7sq"
      },
      "source": [
        "from sklearn.preprocessing import StandardScaler\n",
        "from sklearn.neighbors import KNeighborsClassifier\n",
        "from sklearn import metrics\n",
        "from sklearn.metrics import classification_report, confusion_matrix"
      ],
      "execution_count": 23,
      "outputs": []
    },
    {
      "cell_type": "code",
      "metadata": {
        "id": "nKl8NPCAKS0c"
      },
      "source": [
        "acc_list = []\n",
        "rec_list = []\n",
        "prec_list = []\n",
        "f1_list = []"
      ],
      "execution_count": 24,
      "outputs": []
    },
    {
      "cell_type": "code",
      "metadata": {
        "id": "KwMlmAKcnWPg"
      },
      "source": [
        "def classifying(trainfeatures,testfeatures):\n",
        "\n",
        "  X_train = trainfeatures \n",
        "  X_test = testfeatures\n",
        "  y_train = trained.iloc[:,0].values\n",
        "  y_test = test.iloc[:,0].values\n",
        "\n",
        "  for k in [1,3,5,7,10]:\n",
        "\n",
        "    classifier = KNeighborsClassifier(n_neighbors=k,algorithm='brute')\n",
        "    classifier.fit(X_train, y_train)\n",
        "    predicted_label = classifier.predict(X_test)\n",
        "\n",
        "    accuracy_score = (metrics.accuracy_score(y_test,predicted_label))\n",
        "    accuracy_score = (round(accuracy_score,2))*100\n",
        "    acc_list.append(accuracy_score)\n",
        "\n",
        "    cmatrix = confusion_matrix(y_test, predicted_label)\n",
        "    creport = classification_report(y_test, predicted_label)\n",
        "\n",
        "    macro_precision = (metrics.precision_score(y_test, predicted_label, average='macro'))\n",
        "    macro_precision = (round(macro_precision,2))*100\n",
        "    prec_list.append(macro_precision)\n",
        "\n",
        "    macro_recall = (metrics.recall_score(y_test, predicted_label, average='macro'))\n",
        "    macro_recall = (round(macro_recall,2))*100\n",
        "    rec_list.append(macro_recall)\n",
        "    \n",
        "    macro_f1 = (metrics.f1_score(y_test, predicted_label, average='macro'))\n",
        "    macro_f1 = (round(macro_f1,2))*100\n",
        "    f1_list.append(macro_f1)\n",
        "\n",
        "    print(\"\\n\\nConfusion Matrix for k = {} is:\\n\".format(k))\n",
        "    print(cmatrix)\n",
        "    print(\"\\nClassification Report for k = {} is:\\n\".format(k))\n",
        "    print(creport)\n",
        "    print(\"Accuracy Score for k = {0} is: {1}%\".format(k,accuracy_score))\n",
        "    print(\"Macroaveraged Recall for k = {0} is: {1}%\".format(k,macro_recall))\n",
        "    print(\"Macroaveraged Precision for k = {0} is: {1}%\".format(k,macro_precision))\n",
        "    print(\"Macroaveraged F1-score for k = {0} is: {1}%\".format(k,macro_f1))"
      ],
      "execution_count": 25,
      "outputs": []
    },
    {
      "cell_type": "code",
      "metadata": {
        "id": "jW-bBZ70KVJs",
        "outputId": "5ed63a02-b8c6-4cf0-acd6-43a6152492ea",
        "colab": {
          "base_uri": "https://localhost:8080/",
          "height": 1000
        }
      },
      "source": [
        "classifying(train_embeddings,test_embeddings)"
      ],
      "execution_count": 26,
      "outputs": [
        {
          "output_type": "stream",
          "text": [
            "\n",
            "\n",
            "Confusion Matrix for k = 1 is:\n",
            "\n",
            "[[1540  175  118]\n",
            " [ 296  235   80]\n",
            " [ 161   78  233]]\n",
            "\n",
            "Classification Report for k = 1 is:\n",
            "\n",
            "              precision    recall  f1-score   support\n",
            "\n",
            "    negative       0.77      0.84      0.80      1833\n",
            "     neutral       0.48      0.38      0.43       611\n",
            "    positive       0.54      0.49      0.52       472\n",
            "\n",
            "    accuracy                           0.69      2916\n",
            "   macro avg       0.60      0.57      0.58      2916\n",
            "weighted avg       0.67      0.69      0.68      2916\n",
            "\n",
            "Accuracy Score for k = 1 is: 69.0%\n",
            "Macroaveraged Recall for k = 1 is: 56.99999999999999%\n",
            "Macroaveraged Precision for k = 1 is: 60.0%\n",
            "Macroaveraged F1-score for k = 1 is: 57.99999999999999%\n",
            "\n",
            "\n",
            "Confusion Matrix for k = 3 is:\n",
            "\n",
            "[[1714   74   45]\n",
            " [ 383  171   57]\n",
            " [ 201   34  237]]\n",
            "\n",
            "Classification Report for k = 3 is:\n",
            "\n",
            "              precision    recall  f1-score   support\n",
            "\n",
            "    negative       0.75      0.94      0.83      1833\n",
            "     neutral       0.61      0.28      0.38       611\n",
            "    positive       0.70      0.50      0.58       472\n",
            "\n",
            "    accuracy                           0.73      2916\n",
            "   macro avg       0.69      0.57      0.60      2916\n",
            "weighted avg       0.71      0.73      0.70      2916\n",
            "\n",
            "Accuracy Score for k = 3 is: 73.0%\n",
            "Macroaveraged Recall for k = 3 is: 56.99999999999999%\n",
            "Macroaveraged Precision for k = 3 is: 69.0%\n",
            "Macroaveraged F1-score for k = 3 is: 60.0%\n",
            "\n",
            "\n",
            "Confusion Matrix for k = 5 is:\n",
            "\n",
            "[[1772   42   19]\n",
            " [ 424  144   43]\n",
            " [ 204   33  235]]\n",
            "\n",
            "Classification Report for k = 5 is:\n",
            "\n",
            "              precision    recall  f1-score   support\n",
            "\n",
            "    negative       0.74      0.97      0.84      1833\n",
            "     neutral       0.66      0.24      0.35       611\n",
            "    positive       0.79      0.50      0.61       472\n",
            "\n",
            "    accuracy                           0.74      2916\n",
            "   macro avg       0.73      0.57      0.60      2916\n",
            "weighted avg       0.73      0.74      0.70      2916\n",
            "\n",
            "Accuracy Score for k = 5 is: 74.0%\n",
            "Macroaveraged Recall for k = 5 is: 56.99999999999999%\n",
            "Macroaveraged Precision for k = 5 is: 73.0%\n",
            "Macroaveraged F1-score for k = 5 is: 60.0%\n",
            "\n",
            "\n",
            "Confusion Matrix for k = 7 is:\n",
            "\n",
            "[[1789   27   17]\n",
            " [ 442  123   46]\n",
            " [ 208   26  238]]\n",
            "\n",
            "Classification Report for k = 7 is:\n",
            "\n",
            "              precision    recall  f1-score   support\n",
            "\n",
            "    negative       0.73      0.98      0.84      1833\n",
            "     neutral       0.70      0.20      0.31       611\n",
            "    positive       0.79      0.50      0.62       472\n",
            "\n",
            "    accuracy                           0.74      2916\n",
            "   macro avg       0.74      0.56      0.59      2916\n",
            "weighted avg       0.74      0.74      0.69      2916\n",
            "\n",
            "Accuracy Score for k = 7 is: 74.0%\n",
            "Macroaveraged Recall for k = 7 is: 56.00000000000001%\n",
            "Macroaveraged Precision for k = 7 is: 74.0%\n",
            "Macroaveraged F1-score for k = 7 is: 59.0%\n",
            "\n",
            "\n",
            "Confusion Matrix for k = 10 is:\n",
            "\n",
            "[[1807   15   11]\n",
            " [ 465  106   40]\n",
            " [ 227   22  223]]\n",
            "\n",
            "Classification Report for k = 10 is:\n",
            "\n",
            "              precision    recall  f1-score   support\n",
            "\n",
            "    negative       0.72      0.99      0.83      1833\n",
            "     neutral       0.74      0.17      0.28       611\n",
            "    positive       0.81      0.47      0.60       472\n",
            "\n",
            "    accuracy                           0.73      2916\n",
            "   macro avg       0.76      0.54      0.57      2916\n",
            "weighted avg       0.74      0.73      0.68      2916\n",
            "\n",
            "Accuracy Score for k = 10 is: 73.0%\n",
            "Macroaveraged Recall for k = 10 is: 54.0%\n",
            "Macroaveraged Precision for k = 10 is: 76.0%\n",
            "Macroaveraged F1-score for k = 10 is: 56.99999999999999%\n"
          ],
          "name": "stdout"
        }
      ]
    },
    {
      "cell_type": "markdown",
      "metadata": {
        "id": "OxS7CiPbtakI"
      },
      "source": [
        "# **Plotting Part 2 Results with Word2Vec**"
      ]
    },
    {
      "cell_type": "code",
      "metadata": {
        "id": "VWEjjpZaT28L",
        "outputId": "83328369-1186-4fba-fa1f-f429d6c8590e",
        "colab": {
          "base_uri": "https://localhost:8080/",
          "height": 534
        }
      },
      "source": [
        "k_ls = [1,3,5,7,10] \n",
        "\n",
        "fig = plt.figure(figsize=(12,8))\n",
        "\n",
        "plt.subplot(2,2,1)\n",
        "plt.plot(k_ls,acc_list)\n",
        "plt.title(\"Accuracy as KNN increase\",fontsize='x-large')\n",
        "plt.xlabel(\"k Nearest Neighbors\",fontsize='large')\n",
        "plt.ylabel(\"Accuracy\",fontsize='large')\n",
        "\n",
        "plt.subplot(2,2,2)\n",
        "plt.plot(k_ls,rec_list)\n",
        "plt.title(\"Recall as KNN increase\",fontsize='x-large')\n",
        "plt.xlabel(\"k Nearest Neighbors\",fontsize='large')\n",
        "plt.ylabel(\"Recall\",fontsize='large')\n",
        "\n",
        "plt.subplot(2,2,3)\n",
        "plt.plot(k_ls,prec_list)\n",
        "plt.title(\"Precision as KNN increase\",fontsize='x-large')\n",
        "plt.xlabel(\"k Nearest Neighbors\",fontsize='large')\n",
        "plt.ylabel(\"Precision\",fontsize='large')\n",
        "\n",
        "plt.subplot(2,2,4)\n",
        "plt.plot(k_ls,f1_list)\n",
        "plt.title(\"F1 as KNN increase\",fontsize='x-large')\n",
        "plt.xlabel(\"k Nearest Neighbors\",fontsize='large')\n",
        "plt.ylabel(\"F1\",fontsize='large')\n",
        "\n",
        "fig.subplots_adjust(hspace=.5)\n",
        "\n",
        "plt.show"
      ],
      "execution_count": 27,
      "outputs": [
        {
          "output_type": "execute_result",
          "data": {
            "text/plain": [
              "<function matplotlib.pyplot.show>"
            ]
          },
          "metadata": {
            "tags": []
          },
          "execution_count": 27
        },
        {
          "output_type": "display_data",
          "data": {
            "image/png": "[encoded data removed]",
            "text/plain": [
              "<Figure size 864x576 with 4 Axes>"
            ]
          },
          "metadata": {
            "tags": [],
            "needs_background": "light"
          }
        }
      ]
    },
    {
      "cell_type": "code",
      "metadata": {
        "id": "dF0LYE2qy0zk"
      },
      "source": [
        ""
      ],
      "execution_count": 27,
      "outputs": []
    }
  ]
}